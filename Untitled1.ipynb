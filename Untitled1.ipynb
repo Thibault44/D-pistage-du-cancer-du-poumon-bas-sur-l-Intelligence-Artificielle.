{
 "cells": [
  {
   "cell_type": "code",
   "execution_count": 1,
   "metadata": {
    "colab": {
     "base_uri": "https://localhost:8080/"
    },
    "id": "GQ9EYEU0M2-B",
    "outputId": "ef3f4002-170b-4e65-efed-8c9050816b7c"
   },
   "outputs": [
    {
     "name": "stdout",
     "output_type": "stream",
     "text": [
      "Mounted at /content/gdrive\n"
     ]
    }
   ],
   "source": [
    "from google.colab import drive\n",
    "drive.mount('/content/gdrive')"
   ]
  },
  {
   "cell_type": "code",
   "execution_count": 2,
   "metadata": {
    "colab": {
     "base_uri": "https://localhost:8080/"
    },
    "id": "KpJwBgbNM6tq",
    "outputId": "2faf5df9-2cad-42e2-d2c6-f184be6edf7e"
   },
   "outputs": [
    {
     "name": "stdout",
     "output_type": "stream",
     "text": [
      "Archive:  /content/gdrive/MyDrive/Nice_LungScreenAI/entretien.zip\n",
      "   creating: entretien/.idea/\n",
      "  inflating: entretien/.idea/.gitignore  \n",
      "  inflating: entretien/.idea/deployment.xml  \n",
      "  inflating: entretien/.idea/entretien.iml  \n",
      "   creating: entretien/.idea/inspectionProfiles/\n",
      "  inflating: entretien/.idea/inspectionProfiles/profiles_settings.xml  \n",
      "  inflating: entretien/.idea/inspectionProfiles/Project_Default.xml  \n",
      "  inflating: entretien/.idea/misc.xml  \n",
      "  inflating: entretien/.idea/modules.xml  \n",
      "  inflating: entretien/.idea/workspace.xml  \n",
      "   creating: entretien/checkpoints/\n",
      "   creating: entretien/data/\n",
      "  inflating: entretien/data/annotations.csv  \n",
      "   creating: entretien/data/nodules/\n",
      "  inflating: entretien/data/nodules/0.npy  \n",
      "  inflating: entretien/data/nodules/1.npy  \n",
      "  inflating: entretien/data/nodules/10.npy  \n",
      "  inflating: entretien/data/nodules/100.npy  \n",
      "  inflating: entretien/data/nodules/101.npy  \n",
      "  inflating: entretien/data/nodules/102.npy  \n",
      "  inflating: entretien/data/nodules/103.npy  \n",
      "  inflating: entretien/data/nodules/104.npy  \n",
      "  inflating: entretien/data/nodules/105.npy  \n",
      "  inflating: entretien/data/nodules/106.npy  \n",
      "  inflating: entretien/data/nodules/107.npy  \n",
      "  inflating: entretien/data/nodules/108.npy  \n",
      "  inflating: entretien/data/nodules/109.npy  \n",
      "  inflating: entretien/data/nodules/11.npy  \n",
      "  inflating: entretien/data/nodules/110.npy  \n",
      "  inflating: entretien/data/nodules/111.npy  \n",
      "  inflating: entretien/data/nodules/112.npy  \n",
      "  inflating: entretien/data/nodules/113.npy  \n",
      "  inflating: entretien/data/nodules/114.npy  \n",
      "  inflating: entretien/data/nodules/115.npy  \n",
      "  inflating: entretien/data/nodules/116.npy  \n",
      "  inflating: entretien/data/nodules/117.npy  \n",
      "  inflating: entretien/data/nodules/118.npy  \n",
      "  inflating: entretien/data/nodules/119.npy  \n",
      "  inflating: entretien/data/nodules/12.npy  \n",
      "  inflating: entretien/data/nodules/120.npy  \n",
      "  inflating: entretien/data/nodules/121.npy  \n",
      "  inflating: entretien/data/nodules/122.npy  \n",
      "  inflating: entretien/data/nodules/123.npy  \n",
      "  inflating: entretien/data/nodules/124.npy  \n",
      "  inflating: entretien/data/nodules/125.npy  \n",
      "  inflating: entretien/data/nodules/126.npy  \n",
      "  inflating: entretien/data/nodules/127.npy  \n",
      "  inflating: entretien/data/nodules/128.npy  \n",
      "  inflating: entretien/data/nodules/129.npy  \n",
      "  inflating: entretien/data/nodules/13.npy  \n",
      "  inflating: entretien/data/nodules/130.npy  \n",
      "  inflating: entretien/data/nodules/131.npy  \n",
      "  inflating: entretien/data/nodules/132.npy  \n",
      "  inflating: entretien/data/nodules/133.npy  \n",
      "  inflating: entretien/data/nodules/134.npy  \n",
      "  inflating: entretien/data/nodules/135.npy  \n",
      "  inflating: entretien/data/nodules/136.npy  \n",
      "  inflating: entretien/data/nodules/137.npy  \n",
      "  inflating: entretien/data/nodules/138.npy  \n",
      "  inflating: entretien/data/nodules/139.npy  \n",
      "  inflating: entretien/data/nodules/14.npy  \n",
      "  inflating: entretien/data/nodules/140.npy  \n",
      "  inflating: entretien/data/nodules/141.npy  \n",
      "  inflating: entretien/data/nodules/142.npy  \n",
      "  inflating: entretien/data/nodules/143.npy  \n",
      "  inflating: entretien/data/nodules/144.npy  \n",
      "  inflating: entretien/data/nodules/145.npy  \n",
      "  inflating: entretien/data/nodules/146.npy  \n",
      "  inflating: entretien/data/nodules/147.npy  \n",
      "  inflating: entretien/data/nodules/148.npy  \n",
      "  inflating: entretien/data/nodules/149.npy  \n",
      "  inflating: entretien/data/nodules/15.npy  \n",
      "  inflating: entretien/data/nodules/150.npy  \n",
      "  inflating: entretien/data/nodules/151.npy  \n",
      "  inflating: entretien/data/nodules/152.npy  \n",
      "  inflating: entretien/data/nodules/153.npy  \n",
      "  inflating: entretien/data/nodules/154.npy  \n",
      "  inflating: entretien/data/nodules/155.npy  \n",
      "  inflating: entretien/data/nodules/156.npy  \n",
      "  inflating: entretien/data/nodules/157.npy  \n",
      "  inflating: entretien/data/nodules/158.npy  \n",
      "  inflating: entretien/data/nodules/159.npy  \n",
      "  inflating: entretien/data/nodules/16.npy  \n",
      "  inflating: entretien/data/nodules/160.npy  \n",
      "  inflating: entretien/data/nodules/161.npy  \n",
      "  inflating: entretien/data/nodules/162.npy  \n",
      "  inflating: entretien/data/nodules/163.npy  \n",
      "  inflating: entretien/data/nodules/164.npy  \n",
      "  inflating: entretien/data/nodules/165.npy  \n",
      "  inflating: entretien/data/nodules/166.npy  \n",
      "  inflating: entretien/data/nodules/167.npy  \n",
      "  inflating: entretien/data/nodules/168.npy  \n",
      "  inflating: entretien/data/nodules/169.npy  \n",
      "  inflating: entretien/data/nodules/17.npy  \n",
      "  inflating: entretien/data/nodules/170.npy  \n",
      "  inflating: entretien/data/nodules/171.npy  \n",
      "  inflating: entretien/data/nodules/172.npy  \n",
      "  inflating: entretien/data/nodules/173.npy  \n",
      "  inflating: entretien/data/nodules/174.npy  \n",
      "  inflating: entretien/data/nodules/175.npy  \n",
      "  inflating: entretien/data/nodules/176.npy  \n",
      "  inflating: entretien/data/nodules/177.npy  \n",
      "  inflating: entretien/data/nodules/178.npy  \n",
      "  inflating: entretien/data/nodules/179.npy  \n",
      "  inflating: entretien/data/nodules/18.npy  \n",
      "  inflating: entretien/data/nodules/180.npy  \n",
      "  inflating: entretien/data/nodules/181.npy  \n",
      "  inflating: entretien/data/nodules/182.npy  \n",
      "  inflating: entretien/data/nodules/183.npy  \n",
      "  inflating: entretien/data/nodules/184.npy  \n",
      "  inflating: entretien/data/nodules/185.npy  \n",
      "  inflating: entretien/data/nodules/186.npy  \n",
      "  inflating: entretien/data/nodules/187.npy  \n",
      "  inflating: entretien/data/nodules/188.npy  \n",
      "  inflating: entretien/data/nodules/189.npy  \n",
      "  inflating: entretien/data/nodules/19.npy  \n",
      "  inflating: entretien/data/nodules/190.npy  \n",
      "  inflating: entretien/data/nodules/191.npy  \n",
      "  inflating: entretien/data/nodules/192.npy  \n",
      "  inflating: entretien/data/nodules/193.npy  \n",
      "  inflating: entretien/data/nodules/194.npy  \n",
      "  inflating: entretien/data/nodules/195.npy  \n",
      "  inflating: entretien/data/nodules/196.npy  \n",
      "  inflating: entretien/data/nodules/197.npy  \n",
      "  inflating: entretien/data/nodules/198.npy  \n",
      "  inflating: entretien/data/nodules/199.npy  \n",
      "  inflating: entretien/data/nodules/2.npy  \n",
      "  inflating: entretien/data/nodules/20.npy  \n",
      "  inflating: entretien/data/nodules/21.npy  \n",
      "  inflating: entretien/data/nodules/22.npy  \n",
      "  inflating: entretien/data/nodules/23.npy  \n",
      "  inflating: entretien/data/nodules/24.npy  \n",
      "  inflating: entretien/data/nodules/25.npy  \n",
      "  inflating: entretien/data/nodules/26.npy  \n",
      "  inflating: entretien/data/nodules/27.npy  \n",
      "  inflating: entretien/data/nodules/28.npy  \n",
      "  inflating: entretien/data/nodules/29.npy  \n",
      "  inflating: entretien/data/nodules/3.npy  \n",
      "  inflating: entretien/data/nodules/30.npy  \n",
      "  inflating: entretien/data/nodules/31.npy  \n",
      "  inflating: entretien/data/nodules/32.npy  \n",
      "  inflating: entretien/data/nodules/33.npy  \n",
      "  inflating: entretien/data/nodules/34.npy  \n",
      "  inflating: entretien/data/nodules/35.npy  \n",
      "  inflating: entretien/data/nodules/36.npy  \n",
      "  inflating: entretien/data/nodules/37.npy  \n",
      "  inflating: entretien/data/nodules/38.npy  \n",
      "  inflating: entretien/data/nodules/39.npy  \n",
      "  inflating: entretien/data/nodules/4.npy  \n",
      "  inflating: entretien/data/nodules/40.npy  \n",
      "  inflating: entretien/data/nodules/41.npy  \n",
      "  inflating: entretien/data/nodules/42.npy  \n",
      "  inflating: entretien/data/nodules/43.npy  \n",
      "  inflating: entretien/data/nodules/44.npy  \n",
      "  inflating: entretien/data/nodules/45.npy  \n",
      "  inflating: entretien/data/nodules/46.npy  \n",
      "  inflating: entretien/data/nodules/47.npy  \n",
      "  inflating: entretien/data/nodules/48.npy  \n",
      "  inflating: entretien/data/nodules/49.npy  \n",
      "  inflating: entretien/data/nodules/5.npy  \n",
      "  inflating: entretien/data/nodules/50.npy  \n",
      "  inflating: entretien/data/nodules/51.npy  \n",
      "  inflating: entretien/data/nodules/52.npy  \n",
      "  inflating: entretien/data/nodules/53.npy  \n",
      "  inflating: entretien/data/nodules/54.npy  \n",
      "  inflating: entretien/data/nodules/55.npy  \n",
      "  inflating: entretien/data/nodules/56.npy  \n",
      "  inflating: entretien/data/nodules/57.npy  \n",
      "  inflating: entretien/data/nodules/58.npy  \n",
      "  inflating: entretien/data/nodules/59.npy  \n",
      "  inflating: entretien/data/nodules/6.npy  \n",
      "  inflating: entretien/data/nodules/60.npy  \n",
      "  inflating: entretien/data/nodules/61.npy  \n",
      "  inflating: entretien/data/nodules/62.npy  \n",
      "  inflating: entretien/data/nodules/63.npy  \n",
      "  inflating: entretien/data/nodules/64.npy  \n",
      "  inflating: entretien/data/nodules/65.npy  \n",
      "  inflating: entretien/data/nodules/66.npy  \n",
      "  inflating: entretien/data/nodules/67.npy  \n",
      "  inflating: entretien/data/nodules/68.npy  \n",
      "  inflating: entretien/data/nodules/69.npy  \n",
      "  inflating: entretien/data/nodules/7.npy  \n",
      "  inflating: entretien/data/nodules/70.npy  \n",
      "  inflating: entretien/data/nodules/71.npy  \n",
      "  inflating: entretien/data/nodules/72.npy  \n",
      "  inflating: entretien/data/nodules/73.npy  \n",
      "  inflating: entretien/data/nodules/74.npy  \n",
      "  inflating: entretien/data/nodules/75.npy  \n",
      "  inflating: entretien/data/nodules/76.npy  \n",
      "  inflating: entretien/data/nodules/77.npy  \n",
      "  inflating: entretien/data/nodules/78.npy  \n",
      "  inflating: entretien/data/nodules/79.npy  \n",
      "  inflating: entretien/data/nodules/8.npy  \n",
      "  inflating: entretien/data/nodules/80.npy  \n",
      "  inflating: entretien/data/nodules/81.npy  \n",
      "  inflating: entretien/data/nodules/82.npy  \n",
      "  inflating: entretien/data/nodules/83.npy  \n",
      "  inflating: entretien/data/nodules/84.npy  \n",
      "  inflating: entretien/data/nodules/85.npy  \n",
      "  inflating: entretien/data/nodules/86.npy  \n",
      "  inflating: entretien/data/nodules/87.npy  \n",
      "  inflating: entretien/data/nodules/88.npy  \n",
      "  inflating: entretien/data/nodules/89.npy  \n",
      "  inflating: entretien/data/nodules/9.npy  \n",
      "  inflating: entretien/data/nodules/90.npy  \n",
      "  inflating: entretien/data/nodules/91.npy  \n",
      "  inflating: entretien/data/nodules/92.npy  \n",
      "  inflating: entretien/data/nodules/93.npy  \n",
      "  inflating: entretien/data/nodules/94.npy  \n",
      "  inflating: entretien/data/nodules/95.npy  \n",
      "  inflating: entretien/data/nodules/96.npy  \n",
      "  inflating: entretien/data/nodules/97.npy  \n",
      "  inflating: entretien/data/nodules/98.npy  \n",
      "  inflating: entretien/data/nodules/99.npy  \n",
      "   creating: entretien/data/nodules_preview/\n",
      " extracting: entretien/data/nodules_preview/0.png  \n",
      " extracting: entretien/data/nodules_preview/1.png  \n",
      " extracting: entretien/data/nodules_preview/10.png  \n",
      " extracting: entretien/data/nodules_preview/100.png  \n",
      " extracting: entretien/data/nodules_preview/101.png  \n",
      " extracting: entretien/data/nodules_preview/102.png  \n",
      " extracting: entretien/data/nodules_preview/103.png  \n",
      " extracting: entretien/data/nodules_preview/104.png  \n",
      " extracting: entretien/data/nodules_preview/105.png  \n",
      " extracting: entretien/data/nodules_preview/106.png  \n",
      " extracting: entretien/data/nodules_preview/107.png  \n",
      " extracting: entretien/data/nodules_preview/108.png  \n",
      " extracting: entretien/data/nodules_preview/109.png  \n",
      " extracting: entretien/data/nodules_preview/11.png  \n",
      " extracting: entretien/data/nodules_preview/110.png  \n",
      " extracting: entretien/data/nodules_preview/111.png  \n",
      " extracting: entretien/data/nodules_preview/112.png  \n",
      " extracting: entretien/data/nodules_preview/113.png  \n",
      " extracting: entretien/data/nodules_preview/114.png  \n",
      " extracting: entretien/data/nodules_preview/115.png  \n",
      " extracting: entretien/data/nodules_preview/116.png  \n",
      " extracting: entretien/data/nodules_preview/117.png  \n",
      " extracting: entretien/data/nodules_preview/118.png  \n",
      " extracting: entretien/data/nodules_preview/119.png  \n",
      " extracting: entretien/data/nodules_preview/12.png  \n",
      " extracting: entretien/data/nodules_preview/120.png  \n",
      " extracting: entretien/data/nodules_preview/121.png  \n",
      " extracting: entretien/data/nodules_preview/122.png  \n",
      " extracting: entretien/data/nodules_preview/123.png  \n",
      " extracting: entretien/data/nodules_preview/124.png  \n",
      " extracting: entretien/data/nodules_preview/125.png  \n",
      " extracting: entretien/data/nodules_preview/126.png  \n",
      " extracting: entretien/data/nodules_preview/127.png  \n",
      " extracting: entretien/data/nodules_preview/128.png  \n",
      " extracting: entretien/data/nodules_preview/129.png  \n",
      " extracting: entretien/data/nodules_preview/13.png  \n",
      " extracting: entretien/data/nodules_preview/130.png  \n",
      " extracting: entretien/data/nodules_preview/131.png  \n",
      " extracting: entretien/data/nodules_preview/132.png  \n",
      " extracting: entretien/data/nodules_preview/133.png  \n",
      " extracting: entretien/data/nodules_preview/134.png  \n",
      " extracting: entretien/data/nodules_preview/135.png  \n",
      " extracting: entretien/data/nodules_preview/136.png  \n",
      " extracting: entretien/data/nodules_preview/137.png  \n",
      " extracting: entretien/data/nodules_preview/138.png  \n",
      " extracting: entretien/data/nodules_preview/139.png  \n",
      " extracting: entretien/data/nodules_preview/14.png  \n",
      " extracting: entretien/data/nodules_preview/140.png  \n",
      " extracting: entretien/data/nodules_preview/141.png  \n",
      " extracting: entretien/data/nodules_preview/142.png  \n",
      " extracting: entretien/data/nodules_preview/143.png  \n",
      " extracting: entretien/data/nodules_preview/144.png  \n",
      " extracting: entretien/data/nodules_preview/145.png  \n",
      " extracting: entretien/data/nodules_preview/146.png  \n",
      " extracting: entretien/data/nodules_preview/147.png  \n",
      " extracting: entretien/data/nodules_preview/148.png  \n",
      " extracting: entretien/data/nodules_preview/149.png  \n",
      " extracting: entretien/data/nodules_preview/15.png  \n",
      " extracting: entretien/data/nodules_preview/150.png  \n",
      " extracting: entretien/data/nodules_preview/151.png  \n",
      " extracting: entretien/data/nodules_preview/152.png  \n",
      " extracting: entretien/data/nodules_preview/153.png  \n",
      " extracting: entretien/data/nodules_preview/154.png  \n",
      " extracting: entretien/data/nodules_preview/155.png  \n",
      " extracting: entretien/data/nodules_preview/156.png  \n",
      " extracting: entretien/data/nodules_preview/157.png  \n",
      " extracting: entretien/data/nodules_preview/158.png  \n",
      " extracting: entretien/data/nodules_preview/159.png  \n",
      " extracting: entretien/data/nodules_preview/16.png  \n",
      " extracting: entretien/data/nodules_preview/160.png  \n",
      " extracting: entretien/data/nodules_preview/161.png  \n",
      " extracting: entretien/data/nodules_preview/162.png  \n",
      " extracting: entretien/data/nodules_preview/163.png  \n",
      " extracting: entretien/data/nodules_preview/164.png  \n",
      " extracting: entretien/data/nodules_preview/165.png  \n",
      " extracting: entretien/data/nodules_preview/166.png  \n",
      " extracting: entretien/data/nodules_preview/167.png  \n",
      " extracting: entretien/data/nodules_preview/168.png  \n",
      " extracting: entretien/data/nodules_preview/169.png  \n",
      " extracting: entretien/data/nodules_preview/17.png  \n",
      " extracting: entretien/data/nodules_preview/170.png  \n",
      " extracting: entretien/data/nodules_preview/171.png  \n",
      " extracting: entretien/data/nodules_preview/172.png  \n",
      " extracting: entretien/data/nodules_preview/173.png  \n",
      " extracting: entretien/data/nodules_preview/174.png  \n",
      " extracting: entretien/data/nodules_preview/175.png  \n",
      " extracting: entretien/data/nodules_preview/176.png  \n",
      " extracting: entretien/data/nodules_preview/177.png  \n",
      " extracting: entretien/data/nodules_preview/178.png  \n",
      " extracting: entretien/data/nodules_preview/179.png  \n",
      " extracting: entretien/data/nodules_preview/18.png  \n",
      " extracting: entretien/data/nodules_preview/180.png  \n",
      " extracting: entretien/data/nodules_preview/181.png  \n",
      " extracting: entretien/data/nodules_preview/182.png  \n",
      " extracting: entretien/data/nodules_preview/183.png  \n",
      " extracting: entretien/data/nodules_preview/184.png  \n",
      " extracting: entretien/data/nodules_preview/185.png  \n",
      " extracting: entretien/data/nodules_preview/186.png  \n",
      " extracting: entretien/data/nodules_preview/187.png  \n",
      " extracting: entretien/data/nodules_preview/188.png  \n",
      " extracting: entretien/data/nodules_preview/189.png  \n",
      " extracting: entretien/data/nodules_preview/19.png  \n",
      " extracting: entretien/data/nodules_preview/190.png  \n",
      " extracting: entretien/data/nodules_preview/191.png  \n",
      " extracting: entretien/data/nodules_preview/192.png  \n",
      " extracting: entretien/data/nodules_preview/193.png  \n",
      " extracting: entretien/data/nodules_preview/194.png  \n",
      " extracting: entretien/data/nodules_preview/195.png  \n",
      " extracting: entretien/data/nodules_preview/196.png  \n",
      " extracting: entretien/data/nodules_preview/197.png  \n",
      " extracting: entretien/data/nodules_preview/198.png  \n",
      " extracting: entretien/data/nodules_preview/199.png  \n",
      " extracting: entretien/data/nodules_preview/2.png  \n",
      " extracting: entretien/data/nodules_preview/20.png  \n",
      " extracting: entretien/data/nodules_preview/21.png  \n",
      " extracting: entretien/data/nodules_preview/22.png  \n",
      " extracting: entretien/data/nodules_preview/23.png  \n",
      " extracting: entretien/data/nodules_preview/24.png  \n",
      " extracting: entretien/data/nodules_preview/25.png  \n",
      " extracting: entretien/data/nodules_preview/26.png  \n",
      " extracting: entretien/data/nodules_preview/27.png  \n",
      " extracting: entretien/data/nodules_preview/28.png  \n",
      " extracting: entretien/data/nodules_preview/29.png  \n",
      " extracting: entretien/data/nodules_preview/3.png  \n",
      " extracting: entretien/data/nodules_preview/30.png  \n",
      " extracting: entretien/data/nodules_preview/31.png  \n",
      " extracting: entretien/data/nodules_preview/32.png  \n",
      " extracting: entretien/data/nodules_preview/33.png  \n",
      " extracting: entretien/data/nodules_preview/34.png  \n",
      " extracting: entretien/data/nodules_preview/35.png  \n",
      " extracting: entretien/data/nodules_preview/36.png  \n",
      " extracting: entretien/data/nodules_preview/37.png  \n",
      " extracting: entretien/data/nodules_preview/38.png  \n",
      " extracting: entretien/data/nodules_preview/39.png  \n",
      " extracting: entretien/data/nodules_preview/4.png  \n",
      " extracting: entretien/data/nodules_preview/40.png  \n",
      " extracting: entretien/data/nodules_preview/41.png  \n",
      " extracting: entretien/data/nodules_preview/42.png  \n",
      " extracting: entretien/data/nodules_preview/43.png  \n",
      " extracting: entretien/data/nodules_preview/44.png  \n",
      " extracting: entretien/data/nodules_preview/45.png  \n",
      " extracting: entretien/data/nodules_preview/46.png  \n",
      " extracting: entretien/data/nodules_preview/47.png  \n",
      " extracting: entretien/data/nodules_preview/48.png  \n",
      " extracting: entretien/data/nodules_preview/49.png  \n",
      " extracting: entretien/data/nodules_preview/5.png  \n",
      " extracting: entretien/data/nodules_preview/50.png  \n",
      " extracting: entretien/data/nodules_preview/51.png  \n",
      " extracting: entretien/data/nodules_preview/52.png  \n",
      " extracting: entretien/data/nodules_preview/53.png  \n",
      " extracting: entretien/data/nodules_preview/54.png  \n",
      " extracting: entretien/data/nodules_preview/55.png  \n",
      " extracting: entretien/data/nodules_preview/56.png  \n",
      " extracting: entretien/data/nodules_preview/57.png  \n",
      " extracting: entretien/data/nodules_preview/58.png  \n",
      " extracting: entretien/data/nodules_preview/59.png  \n",
      " extracting: entretien/data/nodules_preview/6.png  \n",
      " extracting: entretien/data/nodules_preview/60.png  \n",
      " extracting: entretien/data/nodules_preview/61.png  \n",
      " extracting: entretien/data/nodules_preview/62.png  \n",
      " extracting: entretien/data/nodules_preview/63.png  \n",
      " extracting: entretien/data/nodules_preview/64.png  \n",
      " extracting: entretien/data/nodules_preview/65.png  \n",
      " extracting: entretien/data/nodules_preview/66.png  \n",
      " extracting: entretien/data/nodules_preview/67.png  \n",
      " extracting: entretien/data/nodules_preview/68.png  \n",
      " extracting: entretien/data/nodules_preview/69.png  \n",
      " extracting: entretien/data/nodules_preview/7.png  \n",
      " extracting: entretien/data/nodules_preview/70.png  \n",
      " extracting: entretien/data/nodules_preview/71.png  \n",
      " extracting: entretien/data/nodules_preview/72.png  \n",
      " extracting: entretien/data/nodules_preview/73.png  \n",
      " extracting: entretien/data/nodules_preview/74.png  \n",
      " extracting: entretien/data/nodules_preview/75.png  \n",
      " extracting: entretien/data/nodules_preview/76.png  \n",
      " extracting: entretien/data/nodules_preview/77.png  \n",
      " extracting: entretien/data/nodules_preview/78.png  \n",
      " extracting: entretien/data/nodules_preview/79.png  \n",
      " extracting: entretien/data/nodules_preview/8.png  \n",
      " extracting: entretien/data/nodules_preview/80.png  \n",
      " extracting: entretien/data/nodules_preview/81.png  \n",
      " extracting: entretien/data/nodules_preview/82.png  \n",
      " extracting: entretien/data/nodules_preview/83.png  \n",
      " extracting: entretien/data/nodules_preview/84.png  \n",
      " extracting: entretien/data/nodules_preview/85.png  \n",
      " extracting: entretien/data/nodules_preview/86.png  \n",
      " extracting: entretien/data/nodules_preview/87.png  \n",
      " extracting: entretien/data/nodules_preview/88.png  \n",
      " extracting: entretien/data/nodules_preview/89.png  \n",
      " extracting: entretien/data/nodules_preview/9.png  \n",
      " extracting: entretien/data/nodules_preview/90.png  \n",
      " extracting: entretien/data/nodules_preview/91.png  \n",
      " extracting: entretien/data/nodules_preview/92.png  \n",
      " extracting: entretien/data/nodules_preview/93.png  \n",
      " extracting: entretien/data/nodules_preview/94.png  \n",
      " extracting: entretien/data/nodules_preview/95.png  \n",
      " extracting: entretien/data/nodules_preview/96.png  \n",
      " extracting: entretien/data/nodules_preview/97.png  \n",
      " extracting: entretien/data/nodules_preview/98.png  \n",
      " extracting: entretien/data/nodules_preview/99.png  \n",
      "   creating: entretien/src/\n",
      "   creating: entretien/src/modeling/\n",
      "  inflating: entretien/src/modeling/models.py  \n",
      "  inflating: entretien/src/modeling/train.py  \n"
     ]
    }
   ],
   "source": [
    "!unzip \"/content/gdrive/MyDrive/Nice_LungScreenAI/entretien.zip\""
   ]
  },
  {
   "cell_type": "code",
   "execution_count": 3,
   "metadata": {
    "id": "3TIG1Xj7NI3M"
   },
   "outputs": [],
   "source": [
    "import glob\n",
    "data = list(glob.glob('/content/entretien/data/nodules_preview/*'))"
   ]
  },
  {
   "cell_type": "code",
   "execution_count": 4,
   "metadata": {
    "colab": {
     "base_uri": "https://localhost:8080/",
     "height": 49
    },
    "id": "1jipsZV3ODWR",
    "outputId": "d4b97ad2-515f-4c41-c0e6-cdb5582c6504"
   },
   "outputs": [
    {
     "data": {
      "image/png": "[encoded data removed]",
      "text/plain": [
       "<PIL.PngImagePlugin.PngImageFile image mode=L size=32x32 at 0x7FBD9BF66CD0>"
      ]
     },
     "execution_count": 4,
     "metadata": {},
     "output_type": "execute_result"
    }
   ],
   "source": [
    "import PIL\n",
    "PIL.Image.open(str(data[0]))"
   ]
  },
  {
   "cell_type": "code",
   "execution_count": 5,
   "metadata": {
    "id": "qjjiivDuO46b"
   },
   "outputs": [],
   "source": [
    "import pandas as pd \n",
    "path='/content/entretien/data/annotations.csv'\n",
    "annotations = pd.read_csv(path)"
   ]
  },
  {
   "cell_type": "code",
   "execution_count": 6,
   "metadata": {
    "colab": {
     "base_uri": "https://localhost:8080/",
     "height": 206
    },
    "id": "Z1ydEJAEO94C",
    "outputId": "620a86b3-d757-41c3-866e-8743cdff9d63"
   },
   "outputs": [
    {
     "data": {
      "text/html": [
       "\n",
       "  <div id=\"df-3ed33ba8-2c12-4320-b108-9394cba751aa\">\n",
       "    <div class=\"colab-df-container\">\n",
       "      <div>\n",
       "<style scoped>\n",
       "    .dataframe tbody tr th:only-of-type {\n",
       "        vertical-align: middle;\n",
       "    }\n",
       "\n",
       "    .dataframe tbody tr th {\n",
       "        vertical-align: top;\n",
       "    }\n",
       "\n",
       "    .dataframe thead th {\n",
       "        text-align: right;\n",
       "    }\n",
       "</style>\n",
       "<table border=\"1\" class=\"dataframe\">\n",
       "  <thead>\n",
       "    <tr style=\"text-align: right;\">\n",
       "      <th></th>\n",
       "      <th>nodule_id</th>\n",
       "      <th>malignant</th>\n",
       "      <th>spiculated</th>\n",
       "      <th>density</th>\n",
       "    </tr>\n",
       "  </thead>\n",
       "  <tbody>\n",
       "    <tr>\n",
       "      <th>0</th>\n",
       "      <td>0</td>\n",
       "      <td>0</td>\n",
       "      <td>0</td>\n",
       "      <td>solid</td>\n",
       "    </tr>\n",
       "    <tr>\n",
       "      <th>1</th>\n",
       "      <td>1</td>\n",
       "      <td>0</td>\n",
       "      <td>0</td>\n",
       "      <td>solid</td>\n",
       "    </tr>\n",
       "    <tr>\n",
       "      <th>2</th>\n",
       "      <td>2</td>\n",
       "      <td>0</td>\n",
       "      <td>0</td>\n",
       "      <td>solid</td>\n",
       "    </tr>\n",
       "    <tr>\n",
       "      <th>3</th>\n",
       "      <td>3</td>\n",
       "      <td>0</td>\n",
       "      <td>0</td>\n",
       "      <td>solid</td>\n",
       "    </tr>\n",
       "    <tr>\n",
       "      <th>4</th>\n",
       "      <td>4</td>\n",
       "      <td>0</td>\n",
       "      <td>0</td>\n",
       "      <td>solid</td>\n",
       "    </tr>\n",
       "  </tbody>\n",
       "</table>\n",
       "</div>\n",
       "      <button class=\"colab-df-convert\" onclick=\"convertToInteractive('df-3ed33ba8-2c12-4320-b108-9394cba751aa')\"\n",
       "              title=\"Convert this dataframe to an interactive table.\"\n",
       "              style=\"display:none;\">\n",
       "        \n",
       "  <svg xmlns=\"http://www.w3.org/2000/svg\" height=\"24px\"viewBox=\"0 0 24 24\"\n",
       "       width=\"24px\">\n",
       "    <path d=\"M0 0h24v24H0V0z\" fill=\"none\"/>\n",
       "    <path d=\"M18.56 5.44l.94 2.06.94-2.06 2.06-.94-2.06-.94-.94-2.06-.94 2.06-2.06.94zm-11 1L8.5 8.5l.94-2.06 2.06-.94-2.06-.94L8.5 2.5l-.94 2.06-2.06.94zm10 10l.94 2.06.94-2.06 2.06-.94-2.06-.94-.94-2.06-.94 2.06-2.06.94z\"/><path d=\"M17.41 7.96l-1.37-1.37c-.4-.4-.92-.59-1.43-.59-.52 0-1.04.2-1.43.59L10.3 9.45l-7.72 7.72c-.78.78-.78 2.05 0 2.83L4 21.41c.39.39.9.59 1.41.59.51 0 1.02-.2 1.41-.59l7.78-7.78 2.81-2.81c.8-.78.8-2.07 0-2.86zM5.41 20L4 18.59l7.72-7.72 1.47 1.35L5.41 20z\"/>\n",
       "  </svg>\n",
       "      </button>\n",
       "      \n",
       "  <style>\n",
       "    .colab-df-container {\n",
       "      display:flex;\n",
       "      flex-wrap:wrap;\n",
       "      gap: 12px;\n",
       "    }\n",
       "\n",
       "    .colab-df-convert {\n",
       "      background-color: #E8F0FE;\n",
       "      border: none;\n",
       "      border-radius: 50%;\n",
       "      cursor: pointer;\n",
       "      display: none;\n",
       "      fill: #1967D2;\n",
       "      height: 32px;\n",
       "      padding: 0 0 0 0;\n",
       "      width: 32px;\n",
       "    }\n",
       "\n",
       "    .colab-df-convert:hover {\n",
       "      background-color: #E2EBFA;\n",
       "      box-shadow: 0px 1px 2px rgba(60, 64, 67, 0.3), 0px 1px 3px 1px rgba(60, 64, 67, 0.15);\n",
       "      fill: #174EA6;\n",
       "    }\n",
       "\n",
       "    [theme=dark] .colab-df-convert {\n",
       "      background-color: #3B4455;\n",
       "      fill: #D2E3FC;\n",
       "    }\n",
       "\n",
       "    [theme=dark] .colab-df-convert:hover {\n",
       "      background-color: #434B5C;\n",
       "      box-shadow: 0px 1px 3px 1px rgba(0, 0, 0, 0.15);\n",
       "      filter: drop-shadow(0px 1px 2px rgba(0, 0, 0, 0.3));\n",
       "      fill: #FFFFFF;\n",
       "    }\n",
       "  </style>\n",
       "\n",
       "      <script>\n",
       "        const buttonEl =\n",
       "          document.querySelector('#df-3ed33ba8-2c12-4320-b108-9394cba751aa button.colab-df-convert');\n",
       "        buttonEl.style.display =\n",
       "          google.colab.kernel.accessAllowed ? 'block' : 'none';\n",
       "\n",
       "        async function convertToInteractive(key) {\n",
       "          const element = document.querySelector('#df-3ed33ba8-2c12-4320-b108-9394cba751aa');\n",
       "          const dataTable =\n",
       "            await google.colab.kernel.invokeFunction('convertToInteractive',\n",
       "                                                     [key], {});\n",
       "          if (!dataTable) return;\n",
       "\n",
       "          const docLinkHtml = 'Like what you see? Visit the ' +\n",
       "            '<a target=\"_blank\" href=https://colab.research.google.com/notebooks/data_table.ipynb>data table notebook</a>'\n",
       "            + ' to learn more about interactive tables.';\n",
       "          element.innerHTML = '';\n",
       "          dataTable['output_type'] = 'display_data';\n",
       "          await google.colab.output.renderOutput(dataTable, element);\n",
       "          const docLink = document.createElement('div');\n",
       "          docLink.innerHTML = docLinkHtml;\n",
       "          element.appendChild(docLink);\n",
       "        }\n",
       "      </script>\n",
       "    </div>\n",
       "  </div>\n",
       "  "
      ],
      "text/plain": [
       "   nodule_id  malignant  spiculated density\n",
       "0          0          0           0   solid\n",
       "1          1          0           0   solid\n",
       "2          2          0           0   solid\n",
       "3          3          0           0   solid\n",
       "4          4          0           0   solid"
      ]
     },
     "execution_count": 6,
     "metadata": {},
     "output_type": "execute_result"
    }
   ],
   "source": [
    "annotations.head()"
   ]
  },
  {
   "cell_type": "code",
   "execution_count": 7,
   "metadata": {
    "id": "EjQ52t71PEkv"
   },
   "outputs": [],
   "source": [
    "import numpy as np\n",
    "data = np.load('/content/entretien/data/nodules/4.npy')"
   ]
  },
  {
   "cell_type": "code",
   "execution_count": 8,
   "metadata": {
    "colab": {
     "base_uri": "https://localhost:8080/"
    },
    "id": "lv4DnXNIPi1c",
    "outputId": "e214f5bf-2059-47cd-b298-1db6cdfe1db5"
   },
   "outputs": [
    {
     "data": {
      "text/plain": [
       "array([[[ 58,  53,  64, ..., 167, 174, 162],\n",
       "        [ 54,  55,  65, ..., 160, 165, 156],\n",
       "        [ 46,  56,  64, ..., 151, 154, 149],\n",
       "        ...,\n",
       "        [ 50,  49,  48, ..., 157, 168, 169],\n",
       "        [ 47,  50,  47, ..., 155, 162, 169],\n",
       "        [ 43,  51,  47, ..., 167, 170, 172]],\n",
       "\n",
       "       [[ 55,  52,  66, ..., 157, 154, 157],\n",
       "        [ 55,  50,  60, ..., 160, 152, 154],\n",
       "        [ 50,  51,  60, ..., 158, 160, 161],\n",
       "        ...,\n",
       "        [ 61,  54,  48, ..., 160, 172, 165],\n",
       "        [ 57,  56,  54, ..., 164, 162, 167],\n",
       "        [ 47,  49,  48, ..., 163, 161, 170]],\n",
       "\n",
       "       [[ 54,  62,  63, ..., 154, 155, 159],\n",
       "        [ 53,  50,  55, ..., 148, 145, 151],\n",
       "        [ 56,  49,  53, ..., 148, 152, 161],\n",
       "        ...,\n",
       "        [ 66,  60,  60, ..., 168, 165, 157],\n",
       "        [ 56,  58,  55, ..., 159, 168, 166],\n",
       "        [ 55,  56,  54, ..., 147, 160, 164]],\n",
       "\n",
       "       ...,\n",
       "\n",
       "       [[ 58,  62,  66, ..., 235, 194, 176],\n",
       "        [ 51,  63,  66, ..., 229, 189, 169],\n",
       "        [ 58,  62,  57, ..., 215, 193, 157],\n",
       "        ...,\n",
       "        [ 60,  58,  56, ...,  50,  48,  69],\n",
       "        [ 58,  51,  47, ...,  50,  46,  68],\n",
       "        [ 57,  56,  47, ...,  50,  53,  76]],\n",
       "\n",
       "       [[ 69,  67,  68, ..., 218, 187, 168],\n",
       "        [ 62,  61,  60, ..., 216, 196, 167],\n",
       "        [ 64,  57,  54, ..., 207, 210, 170],\n",
       "        ...,\n",
       "        [ 62,  59,  64, ...,  56,  54,  51],\n",
       "        [ 57,  61,  62, ...,  45,  60,  57],\n",
       "        [ 53,  62,  62, ...,  51,  66,  63]],\n",
       "\n",
       "       [[ 71,  67,  70, ..., 208, 194, 177],\n",
       "        [ 70,  71,  70, ..., 206, 212, 190],\n",
       "        [ 73,  74,  67, ..., 198, 215, 199],\n",
       "        ...,\n",
       "        [ 57,  59,  62, ...,  62,  70,  64],\n",
       "        [ 55,  54,  68, ...,  65,  72,  61],\n",
       "        [ 55,  52,  69, ...,  67,  72,  60]]], dtype=uint8)"
      ]
     },
     "execution_count": 8,
     "metadata": {},
     "output_type": "execute_result"
    }
   ],
   "source": [
    "data"
   ]
  },
  {
   "cell_type": "code",
   "execution_count": 9,
   "metadata": {
    "colab": {
     "base_uri": "https://localhost:8080/",
     "height": 1000
    },
    "id": "5YS1WgMIQVuy",
    "outputId": "812dc9b0-f54a-4661-a982-9c9d87b3d30a"
   },
   "outputs": [
    {
     "data": {
      "image/png": "[encoded data removed]",
      "text/plain": [
       "<Figure size 432x288 with 1 Axes>"
      ]
     },
     "metadata": {
      "needs_background": "light"
     },
     "output_type": "display_data"
    },
    {
     "data": {
      "image/png": "[encoded data removed]",
      "text/plain": [
       "<Figure size 432x288 with 1 Axes>"
      ]
     },
     "metadata": {
      "needs_background": "light"
     },
     "output_type": "display_data"
    },
    {
     "data": {
      "image/png": "[encoded data removed]",
      "text/plain": [
       "<Figure size 432x288 with 1 Axes>"
      ]
     },
     "metadata": {
      "needs_background": "light"
     },
     "output_type": "display_data"
    },
    {
     "data": {
      "image/png": "[encoded data removed]",
      "text/plain": [
       "<Figure size 432x288 with 1 Axes>"
      ]
     },
     "metadata": {
      "needs_background": "light"
     },
     "output_type": "display_data"
    },
    {
     "data": {
      "image/png": "[encoded data removed]",
      "text/plain": [
       "<Figure size 432x288 with 1 Axes>"
      ]
     },
     "metadata": {
      "needs_background": "light"
     },
     "output_type": "display_data"
    }
   ],
   "source": [
    "from PIL import Image\n",
    "import matplotlib.pyplot as plt\n",
    "for i in range(0,5):\n",
    "  im=Image.fromarray(data[i])\n",
    "  plt.imshow(im)\n",
    "  plt.show()"
   ]
  },
  {
   "cell_type": "code",
   "execution_count": 9,
   "metadata": {
    "id": "rVxceQtV_yMx"
   },
   "outputs": [],
   "source": []
  },
  {
   "cell_type": "code",
   "execution_count": 9,
   "metadata": {
    "id": "QGAnxutL_yd6"
   },
   "outputs": [],
   "source": []
  },
  {
   "cell_type": "markdown",
   "metadata": {
    "id": "zzvP3WPfe2HI"
   },
   "source": [
    "# Etude de annotations"
   ]
  },
  {
   "cell_type": "code",
   "execution_count": 10,
   "metadata": {
    "colab": {
     "base_uri": "https://localhost:8080/"
    },
    "id": "U0IfJvX0evx8",
    "outputId": "e6e38c51-37a1-45cb-d53d-d287731b9b81"
   },
   "outputs": [
    {
     "data": {
      "text/plain": [
       "solid       150\n",
       "ggo          35\n",
       "subsolid     15\n",
       "Name: density, dtype: int64"
      ]
     },
     "execution_count": 10,
     "metadata": {},
     "output_type": "execute_result"
    }
   ],
   "source": [
    "annotations.density.value_counts()"
   ]
  },
  {
   "cell_type": "code",
   "execution_count": 11,
   "metadata": {
    "colab": {
     "base_uri": "https://localhost:8080/",
     "height": 423
    },
    "id": "1rfA8wmFe6RS",
    "outputId": "09dea844-f6df-49e2-b29b-b05d8bc305a7"
   },
   "outputs": [
    {
     "data": {
      "text/html": [
       "\n",
       "  <div id=\"df-cfcaf903-03c0-4870-92ef-846f44927ef2\">\n",
       "    <div class=\"colab-df-container\">\n",
       "      <div>\n",
       "<style scoped>\n",
       "    .dataframe tbody tr th:only-of-type {\n",
       "        vertical-align: middle;\n",
       "    }\n",
       "\n",
       "    .dataframe tbody tr th {\n",
       "        vertical-align: top;\n",
       "    }\n",
       "\n",
       "    .dataframe thead th {\n",
       "        text-align: right;\n",
       "    }\n",
       "</style>\n",
       "<table border=\"1\" class=\"dataframe\">\n",
       "  <thead>\n",
       "    <tr style=\"text-align: right;\">\n",
       "      <th></th>\n",
       "      <th>nodule_id</th>\n",
       "      <th>malignant</th>\n",
       "      <th>spiculated</th>\n",
       "      <th>density</th>\n",
       "    </tr>\n",
       "  </thead>\n",
       "  <tbody>\n",
       "    <tr>\n",
       "      <th>0</th>\n",
       "      <td>0</td>\n",
       "      <td>0</td>\n",
       "      <td>0</td>\n",
       "      <td>solid</td>\n",
       "    </tr>\n",
       "    <tr>\n",
       "      <th>1</th>\n",
       "      <td>1</td>\n",
       "      <td>0</td>\n",
       "      <td>0</td>\n",
       "      <td>solid</td>\n",
       "    </tr>\n",
       "    <tr>\n",
       "      <th>2</th>\n",
       "      <td>2</td>\n",
       "      <td>0</td>\n",
       "      <td>0</td>\n",
       "      <td>solid</td>\n",
       "    </tr>\n",
       "    <tr>\n",
       "      <th>3</th>\n",
       "      <td>3</td>\n",
       "      <td>0</td>\n",
       "      <td>0</td>\n",
       "      <td>solid</td>\n",
       "    </tr>\n",
       "    <tr>\n",
       "      <th>4</th>\n",
       "      <td>4</td>\n",
       "      <td>0</td>\n",
       "      <td>0</td>\n",
       "      <td>solid</td>\n",
       "    </tr>\n",
       "    <tr>\n",
       "      <th>...</th>\n",
       "      <td>...</td>\n",
       "      <td>...</td>\n",
       "      <td>...</td>\n",
       "      <td>...</td>\n",
       "    </tr>\n",
       "    <tr>\n",
       "      <th>195</th>\n",
       "      <td>195</td>\n",
       "      <td>1</td>\n",
       "      <td>0</td>\n",
       "      <td>ggo</td>\n",
       "    </tr>\n",
       "    <tr>\n",
       "      <th>196</th>\n",
       "      <td>196</td>\n",
       "      <td>1</td>\n",
       "      <td>0</td>\n",
       "      <td>ggo</td>\n",
       "    </tr>\n",
       "    <tr>\n",
       "      <th>197</th>\n",
       "      <td>197</td>\n",
       "      <td>1</td>\n",
       "      <td>0</td>\n",
       "      <td>subsolid</td>\n",
       "    </tr>\n",
       "    <tr>\n",
       "      <th>198</th>\n",
       "      <td>198</td>\n",
       "      <td>1</td>\n",
       "      <td>0</td>\n",
       "      <td>subsolid</td>\n",
       "    </tr>\n",
       "    <tr>\n",
       "      <th>199</th>\n",
       "      <td>199</td>\n",
       "      <td>1</td>\n",
       "      <td>0</td>\n",
       "      <td>subsolid</td>\n",
       "    </tr>\n",
       "  </tbody>\n",
       "</table>\n",
       "<p>200 rows × 4 columns</p>\n",
       "</div>\n",
       "      <button class=\"colab-df-convert\" onclick=\"convertToInteractive('df-cfcaf903-03c0-4870-92ef-846f44927ef2')\"\n",
       "              title=\"Convert this dataframe to an interactive table.\"\n",
       "              style=\"display:none;\">\n",
       "        \n",
       "  <svg xmlns=\"http://www.w3.org/2000/svg\" height=\"24px\"viewBox=\"0 0 24 24\"\n",
       "       width=\"24px\">\n",
       "    <path d=\"M0 0h24v24H0V0z\" fill=\"none\"/>\n",
       "    <path d=\"M18.56 5.44l.94 2.06.94-2.06 2.06-.94-2.06-.94-.94-2.06-.94 2.06-2.06.94zm-11 1L8.5 8.5l.94-2.06 2.06-.94-2.06-.94L8.5 2.5l-.94 2.06-2.06.94zm10 10l.94 2.06.94-2.06 2.06-.94-2.06-.94-.94-2.06-.94 2.06-2.06.94z\"/><path d=\"M17.41 7.96l-1.37-1.37c-.4-.4-.92-.59-1.43-.59-.52 0-1.04.2-1.43.59L10.3 9.45l-7.72 7.72c-.78.78-.78 2.05 0 2.83L4 21.41c.39.39.9.59 1.41.59.51 0 1.02-.2 1.41-.59l7.78-7.78 2.81-2.81c.8-.78.8-2.07 0-2.86zM5.41 20L4 18.59l7.72-7.72 1.47 1.35L5.41 20z\"/>\n",
       "  </svg>\n",
       "      </button>\n",
       "      \n",
       "  <style>\n",
       "    .colab-df-container {\n",
       "      display:flex;\n",
       "      flex-wrap:wrap;\n",
       "      gap: 12px;\n",
       "    }\n",
       "\n",
       "    .colab-df-convert {\n",
       "      background-color: #E8F0FE;\n",
       "      border: none;\n",
       "      border-radius: 50%;\n",
       "      cursor: pointer;\n",
       "      display: none;\n",
       "      fill: #1967D2;\n",
       "      height: 32px;\n",
       "      padding: 0 0 0 0;\n",
       "      width: 32px;\n",
       "    }\n",
       "\n",
       "    .colab-df-convert:hover {\n",
       "      background-color: #E2EBFA;\n",
       "      box-shadow: 0px 1px 2px rgba(60, 64, 67, 0.3), 0px 1px 3px 1px rgba(60, 64, 67, 0.15);\n",
       "      fill: #174EA6;\n",
       "    }\n",
       "\n",
       "    [theme=dark] .colab-df-convert {\n",
       "      background-color: #3B4455;\n",
       "      fill: #D2E3FC;\n",
       "    }\n",
       "\n",
       "    [theme=dark] .colab-df-convert:hover {\n",
       "      background-color: #434B5C;\n",
       "      box-shadow: 0px 1px 3px 1px rgba(0, 0, 0, 0.15);\n",
       "      filter: drop-shadow(0px 1px 2px rgba(0, 0, 0, 0.3));\n",
       "      fill: #FFFFFF;\n",
       "    }\n",
       "  </style>\n",
       "\n",
       "      <script>\n",
       "        const buttonEl =\n",
       "          document.querySelector('#df-cfcaf903-03c0-4870-92ef-846f44927ef2 button.colab-df-convert');\n",
       "        buttonEl.style.display =\n",
       "          google.colab.kernel.accessAllowed ? 'block' : 'none';\n",
       "\n",
       "        async function convertToInteractive(key) {\n",
       "          const element = document.querySelector('#df-cfcaf903-03c0-4870-92ef-846f44927ef2');\n",
       "          const dataTable =\n",
       "            await google.colab.kernel.invokeFunction('convertToInteractive',\n",
       "                                                     [key], {});\n",
       "          if (!dataTable) return;\n",
       "\n",
       "          const docLinkHtml = 'Like what you see? Visit the ' +\n",
       "            '<a target=\"_blank\" href=https://colab.research.google.com/notebooks/data_table.ipynb>data table notebook</a>'\n",
       "            + ' to learn more about interactive tables.';\n",
       "          element.innerHTML = '';\n",
       "          dataTable['output_type'] = 'display_data';\n",
       "          await google.colab.output.renderOutput(dataTable, element);\n",
       "          const docLink = document.createElement('div');\n",
       "          docLink.innerHTML = docLinkHtml;\n",
       "          element.appendChild(docLink);\n",
       "        }\n",
       "      </script>\n",
       "    </div>\n",
       "  </div>\n",
       "  "
      ],
      "text/plain": [
       "     nodule_id  malignant  spiculated   density\n",
       "0            0          0           0     solid\n",
       "1            1          0           0     solid\n",
       "2            2          0           0     solid\n",
       "3            3          0           0     solid\n",
       "4            4          0           0     solid\n",
       "..         ...        ...         ...       ...\n",
       "195        195          1           0       ggo\n",
       "196        196          1           0       ggo\n",
       "197        197          1           0  subsolid\n",
       "198        198          1           0  subsolid\n",
       "199        199          1           0  subsolid\n",
       "\n",
       "[200 rows x 4 columns]"
      ]
     },
     "execution_count": 11,
     "metadata": {},
     "output_type": "execute_result"
    }
   ],
   "source": [
    "annotations"
   ]
  },
  {
   "cell_type": "markdown",
   "metadata": {
    "id": "K5Ivn7MVe85N"
   },
   "source": [
    "Ground-glass opacity (GGO)"
   ]
  },
  {
   "cell_type": "code",
   "execution_count": 12,
   "metadata": {
    "colab": {
     "base_uri": "https://localhost:8080/"
    },
    "id": "hvKgqUdtfZdN",
    "outputId": "6a9af06b-f565-43fc-e47e-c19c5e1e5972"
   },
   "outputs": [
    {
     "name": "stdout",
     "output_type": "stream",
     "text": [
      "malignant\n",
      "0    160\n",
      "1     40\n",
      "Name: malignant, dtype: int64\n",
      "spiculated\n",
      "0    187\n",
      "1     13\n",
      "Name: spiculated, dtype: int64\n",
      "density\n",
      "solid       150\n",
      "ggo          35\n",
      "subsolid     15\n",
      "Name: density, dtype: int64\n"
     ]
    }
   ],
   "source": [
    "for i in ['malignant',\t'spiculated',\t'density']:\n",
    "  print(i)\n",
    "  print(annotations[i].value_counts())"
   ]
  },
  {
   "cell_type": "markdown",
   "metadata": {
    "id": "pDX1NUX6bkc-"
   },
   "source": [
    "train/test split"
   ]
  },
  {
   "cell_type": "code",
   "execution_count": 13,
   "metadata": {
    "colab": {
     "base_uri": "https://localhost:8080/",
     "height": 423
    },
    "id": "ur6Mg1ZUbXTZ",
    "outputId": "8c3a366c-2c37-43f4-f499-e420fe1d0b52"
   },
   "outputs": [
    {
     "data": {
      "text/html": [
       "\n",
       "  <div id=\"df-ec844b7e-4ec2-451b-8566-bf2a6112b570\">\n",
       "    <div class=\"colab-df-container\">\n",
       "      <div>\n",
       "<style scoped>\n",
       "    .dataframe tbody tr th:only-of-type {\n",
       "        vertical-align: middle;\n",
       "    }\n",
       "\n",
       "    .dataframe tbody tr th {\n",
       "        vertical-align: top;\n",
       "    }\n",
       "\n",
       "    .dataframe thead th {\n",
       "        text-align: right;\n",
       "    }\n",
       "</style>\n",
       "<table border=\"1\" class=\"dataframe\">\n",
       "  <thead>\n",
       "    <tr style=\"text-align: right;\">\n",
       "      <th></th>\n",
       "      <th>nodule_id</th>\n",
       "      <th>malignant</th>\n",
       "      <th>spiculated</th>\n",
       "    </tr>\n",
       "  </thead>\n",
       "  <tbody>\n",
       "    <tr>\n",
       "      <th>0</th>\n",
       "      <td>0</td>\n",
       "      <td>0</td>\n",
       "      <td>0</td>\n",
       "    </tr>\n",
       "    <tr>\n",
       "      <th>1</th>\n",
       "      <td>1</td>\n",
       "      <td>0</td>\n",
       "      <td>0</td>\n",
       "    </tr>\n",
       "    <tr>\n",
       "      <th>2</th>\n",
       "      <td>2</td>\n",
       "      <td>0</td>\n",
       "      <td>0</td>\n",
       "    </tr>\n",
       "    <tr>\n",
       "      <th>3</th>\n",
       "      <td>3</td>\n",
       "      <td>0</td>\n",
       "      <td>0</td>\n",
       "    </tr>\n",
       "    <tr>\n",
       "      <th>4</th>\n",
       "      <td>4</td>\n",
       "      <td>0</td>\n",
       "      <td>0</td>\n",
       "    </tr>\n",
       "    <tr>\n",
       "      <th>...</th>\n",
       "      <td>...</td>\n",
       "      <td>...</td>\n",
       "      <td>...</td>\n",
       "    </tr>\n",
       "    <tr>\n",
       "      <th>195</th>\n",
       "      <td>195</td>\n",
       "      <td>1</td>\n",
       "      <td>0</td>\n",
       "    </tr>\n",
       "    <tr>\n",
       "      <th>196</th>\n",
       "      <td>196</td>\n",
       "      <td>1</td>\n",
       "      <td>0</td>\n",
       "    </tr>\n",
       "    <tr>\n",
       "      <th>197</th>\n",
       "      <td>197</td>\n",
       "      <td>1</td>\n",
       "      <td>0</td>\n",
       "    </tr>\n",
       "    <tr>\n",
       "      <th>198</th>\n",
       "      <td>198</td>\n",
       "      <td>1</td>\n",
       "      <td>0</td>\n",
       "    </tr>\n",
       "    <tr>\n",
       "      <th>199</th>\n",
       "      <td>199</td>\n",
       "      <td>1</td>\n",
       "      <td>0</td>\n",
       "    </tr>\n",
       "  </tbody>\n",
       "</table>\n",
       "<p>200 rows × 3 columns</p>\n",
       "</div>\n",
       "      <button class=\"colab-df-convert\" onclick=\"convertToInteractive('df-ec844b7e-4ec2-451b-8566-bf2a6112b570')\"\n",
       "              title=\"Convert this dataframe to an interactive table.\"\n",
       "              style=\"display:none;\">\n",
       "        \n",
       "  <svg xmlns=\"http://www.w3.org/2000/svg\" height=\"24px\"viewBox=\"0 0 24 24\"\n",
       "       width=\"24px\">\n",
       "    <path d=\"M0 0h24v24H0V0z\" fill=\"none\"/>\n",
       "    <path d=\"M18.56 5.44l.94 2.06.94-2.06 2.06-.94-2.06-.94-.94-2.06-.94 2.06-2.06.94zm-11 1L8.5 8.5l.94-2.06 2.06-.94-2.06-.94L8.5 2.5l-.94 2.06-2.06.94zm10 10l.94 2.06.94-2.06 2.06-.94-2.06-.94-.94-2.06-.94 2.06-2.06.94z\"/><path d=\"M17.41 7.96l-1.37-1.37c-.4-.4-.92-.59-1.43-.59-.52 0-1.04.2-1.43.59L10.3 9.45l-7.72 7.72c-.78.78-.78 2.05 0 2.83L4 21.41c.39.39.9.59 1.41.59.51 0 1.02-.2 1.41-.59l7.78-7.78 2.81-2.81c.8-.78.8-2.07 0-2.86zM5.41 20L4 18.59l7.72-7.72 1.47 1.35L5.41 20z\"/>\n",
       "  </svg>\n",
       "      </button>\n",
       "      \n",
       "  <style>\n",
       "    .colab-df-container {\n",
       "      display:flex;\n",
       "      flex-wrap:wrap;\n",
       "      gap: 12px;\n",
       "    }\n",
       "\n",
       "    .colab-df-convert {\n",
       "      background-color: #E8F0FE;\n",
       "      border: none;\n",
       "      border-radius: 50%;\n",
       "      cursor: pointer;\n",
       "      display: none;\n",
       "      fill: #1967D2;\n",
       "      height: 32px;\n",
       "      padding: 0 0 0 0;\n",
       "      width: 32px;\n",
       "    }\n",
       "\n",
       "    .colab-df-convert:hover {\n",
       "      background-color: #E2EBFA;\n",
       "      box-shadow: 0px 1px 2px rgba(60, 64, 67, 0.3), 0px 1px 3px 1px rgba(60, 64, 67, 0.15);\n",
       "      fill: #174EA6;\n",
       "    }\n",
       "\n",
       "    [theme=dark] .colab-df-convert {\n",
       "      background-color: #3B4455;\n",
       "      fill: #D2E3FC;\n",
       "    }\n",
       "\n",
       "    [theme=dark] .colab-df-convert:hover {\n",
       "      background-color: #434B5C;\n",
       "      box-shadow: 0px 1px 3px 1px rgba(0, 0, 0, 0.15);\n",
       "      filter: drop-shadow(0px 1px 2px rgba(0, 0, 0, 0.3));\n",
       "      fill: #FFFFFF;\n",
       "    }\n",
       "  </style>\n",
       "\n",
       "      <script>\n",
       "        const buttonEl =\n",
       "          document.querySelector('#df-ec844b7e-4ec2-451b-8566-bf2a6112b570 button.colab-df-convert');\n",
       "        buttonEl.style.display =\n",
       "          google.colab.kernel.accessAllowed ? 'block' : 'none';\n",
       "\n",
       "        async function convertToInteractive(key) {\n",
       "          const element = document.querySelector('#df-ec844b7e-4ec2-451b-8566-bf2a6112b570');\n",
       "          const dataTable =\n",
       "            await google.colab.kernel.invokeFunction('convertToInteractive',\n",
       "                                                     [key], {});\n",
       "          if (!dataTable) return;\n",
       "\n",
       "          const docLinkHtml = 'Like what you see? Visit the ' +\n",
       "            '<a target=\"_blank\" href=https://colab.research.google.com/notebooks/data_table.ipynb>data table notebook</a>'\n",
       "            + ' to learn more about interactive tables.';\n",
       "          element.innerHTML = '';\n",
       "          dataTable['output_type'] = 'display_data';\n",
       "          await google.colab.output.renderOutput(dataTable, element);\n",
       "          const docLink = document.createElement('div');\n",
       "          docLink.innerHTML = docLinkHtml;\n",
       "          element.appendChild(docLink);\n",
       "        }\n",
       "      </script>\n",
       "    </div>\n",
       "  </div>\n",
       "  "
      ],
      "text/plain": [
       "     nodule_id  malignant  spiculated\n",
       "0            0          0           0\n",
       "1            1          0           0\n",
       "2            2          0           0\n",
       "3            3          0           0\n",
       "4            4          0           0\n",
       "..         ...        ...         ...\n",
       "195        195          1           0\n",
       "196        196          1           0\n",
       "197        197          1           0\n",
       "198        198          1           0\n",
       "199        199          1           0\n",
       "\n",
       "[200 rows x 3 columns]"
      ]
     },
     "execution_count": 13,
     "metadata": {},
     "output_type": "execute_result"
    }
   ],
   "source": [
    "annotations.drop('density',axis=1)"
   ]
  },
  {
   "cell_type": "code",
   "execution_count": 14,
   "metadata": {
    "id": "YnXuSJSxf8oP"
   },
   "outputs": [],
   "source": [
    "from sklearn.model_selection import train_test_split\n",
    "df_train, df_test, y_train, y_test = train_test_split(annotations.drop('density',axis=1), annotations.density, test_size=0.2, random_state=42)"
   ]
  },
  {
   "cell_type": "code",
   "execution_count": 15,
   "metadata": {
    "colab": {
     "base_uri": "https://localhost:8080/",
     "height": 423
    },
    "id": "BRMaZ9QkcMQa",
    "outputId": "2619b321-7369-42c9-e198-3086a2a5fc4c"
   },
   "outputs": [
    {
     "data": {
      "text/html": [
       "\n",
       "  <div id=\"df-362090ec-f485-41ce-b2e8-5af3eec6baad\">\n",
       "    <div class=\"colab-df-container\">\n",
       "      <div>\n",
       "<style scoped>\n",
       "    .dataframe tbody tr th:only-of-type {\n",
       "        vertical-align: middle;\n",
       "    }\n",
       "\n",
       "    .dataframe tbody tr th {\n",
       "        vertical-align: top;\n",
       "    }\n",
       "\n",
       "    .dataframe thead th {\n",
       "        text-align: right;\n",
       "    }\n",
       "</style>\n",
       "<table border=\"1\" class=\"dataframe\">\n",
       "  <thead>\n",
       "    <tr style=\"text-align: right;\">\n",
       "      <th></th>\n",
       "      <th>nodule_id</th>\n",
       "      <th>malignant</th>\n",
       "      <th>spiculated</th>\n",
       "    </tr>\n",
       "  </thead>\n",
       "  <tbody>\n",
       "    <tr>\n",
       "      <th>79</th>\n",
       "      <td>79</td>\n",
       "      <td>0</td>\n",
       "      <td>0</td>\n",
       "    </tr>\n",
       "    <tr>\n",
       "      <th>197</th>\n",
       "      <td>197</td>\n",
       "      <td>1</td>\n",
       "      <td>0</td>\n",
       "    </tr>\n",
       "    <tr>\n",
       "      <th>38</th>\n",
       "      <td>38</td>\n",
       "      <td>0</td>\n",
       "      <td>0</td>\n",
       "    </tr>\n",
       "    <tr>\n",
       "      <th>24</th>\n",
       "      <td>24</td>\n",
       "      <td>0</td>\n",
       "      <td>0</td>\n",
       "    </tr>\n",
       "    <tr>\n",
       "      <th>122</th>\n",
       "      <td>122</td>\n",
       "      <td>0</td>\n",
       "      <td>0</td>\n",
       "    </tr>\n",
       "    <tr>\n",
       "      <th>...</th>\n",
       "      <td>...</td>\n",
       "      <td>...</td>\n",
       "      <td>...</td>\n",
       "    </tr>\n",
       "    <tr>\n",
       "      <th>106</th>\n",
       "      <td>106</td>\n",
       "      <td>0</td>\n",
       "      <td>0</td>\n",
       "    </tr>\n",
       "    <tr>\n",
       "      <th>14</th>\n",
       "      <td>14</td>\n",
       "      <td>0</td>\n",
       "      <td>0</td>\n",
       "    </tr>\n",
       "    <tr>\n",
       "      <th>92</th>\n",
       "      <td>92</td>\n",
       "      <td>0</td>\n",
       "      <td>0</td>\n",
       "    </tr>\n",
       "    <tr>\n",
       "      <th>179</th>\n",
       "      <td>179</td>\n",
       "      <td>1</td>\n",
       "      <td>0</td>\n",
       "    </tr>\n",
       "    <tr>\n",
       "      <th>102</th>\n",
       "      <td>102</td>\n",
       "      <td>0</td>\n",
       "      <td>0</td>\n",
       "    </tr>\n",
       "  </tbody>\n",
       "</table>\n",
       "<p>160 rows × 3 columns</p>\n",
       "</div>\n",
       "      <button class=\"colab-df-convert\" onclick=\"convertToInteractive('df-362090ec-f485-41ce-b2e8-5af3eec6baad')\"\n",
       "              title=\"Convert this dataframe to an interactive table.\"\n",
       "              style=\"display:none;\">\n",
       "        \n",
       "  <svg xmlns=\"http://www.w3.org/2000/svg\" height=\"24px\"viewBox=\"0 0 24 24\"\n",
       "       width=\"24px\">\n",
       "    <path d=\"M0 0h24v24H0V0z\" fill=\"none\"/>\n",
       "    <path d=\"M18.56 5.44l.94 2.06.94-2.06 2.06-.94-2.06-.94-.94-2.06-.94 2.06-2.06.94zm-11 1L8.5 8.5l.94-2.06 2.06-.94-2.06-.94L8.5 2.5l-.94 2.06-2.06.94zm10 10l.94 2.06.94-2.06 2.06-.94-2.06-.94-.94-2.06-.94 2.06-2.06.94z\"/><path d=\"M17.41 7.96l-1.37-1.37c-.4-.4-.92-.59-1.43-.59-.52 0-1.04.2-1.43.59L10.3 9.45l-7.72 7.72c-.78.78-.78 2.05 0 2.83L4 21.41c.39.39.9.59 1.41.59.51 0 1.02-.2 1.41-.59l7.78-7.78 2.81-2.81c.8-.78.8-2.07 0-2.86zM5.41 20L4 18.59l7.72-7.72 1.47 1.35L5.41 20z\"/>\n",
       "  </svg>\n",
       "      </button>\n",
       "      \n",
       "  <style>\n",
       "    .colab-df-container {\n",
       "      display:flex;\n",
       "      flex-wrap:wrap;\n",
       "      gap: 12px;\n",
       "    }\n",
       "\n",
       "    .colab-df-convert {\n",
       "      background-color: #E8F0FE;\n",
       "      border: none;\n",
       "      border-radius: 50%;\n",
       "      cursor: pointer;\n",
       "      display: none;\n",
       "      fill: #1967D2;\n",
       "      height: 32px;\n",
       "      padding: 0 0 0 0;\n",
       "      width: 32px;\n",
       "    }\n",
       "\n",
       "    .colab-df-convert:hover {\n",
       "      background-color: #E2EBFA;\n",
       "      box-shadow: 0px 1px 2px rgba(60, 64, 67, 0.3), 0px 1px 3px 1px rgba(60, 64, 67, 0.15);\n",
       "      fill: #174EA6;\n",
       "    }\n",
       "\n",
       "    [theme=dark] .colab-df-convert {\n",
       "      background-color: #3B4455;\n",
       "      fill: #D2E3FC;\n",
       "    }\n",
       "\n",
       "    [theme=dark] .colab-df-convert:hover {\n",
       "      background-color: #434B5C;\n",
       "      box-shadow: 0px 1px 3px 1px rgba(0, 0, 0, 0.15);\n",
       "      filter: drop-shadow(0px 1px 2px rgba(0, 0, 0, 0.3));\n",
       "      fill: #FFFFFF;\n",
       "    }\n",
       "  </style>\n",
       "\n",
       "      <script>\n",
       "        const buttonEl =\n",
       "          document.querySelector('#df-362090ec-f485-41ce-b2e8-5af3eec6baad button.colab-df-convert');\n",
       "        buttonEl.style.display =\n",
       "          google.colab.kernel.accessAllowed ? 'block' : 'none';\n",
       "\n",
       "        async function convertToInteractive(key) {\n",
       "          const element = document.querySelector('#df-362090ec-f485-41ce-b2e8-5af3eec6baad');\n",
       "          const dataTable =\n",
       "            await google.colab.kernel.invokeFunction('convertToInteractive',\n",
       "                                                     [key], {});\n",
       "          if (!dataTable) return;\n",
       "\n",
       "          const docLinkHtml = 'Like what you see? Visit the ' +\n",
       "            '<a target=\"_blank\" href=https://colab.research.google.com/notebooks/data_table.ipynb>data table notebook</a>'\n",
       "            + ' to learn more about interactive tables.';\n",
       "          element.innerHTML = '';\n",
       "          dataTable['output_type'] = 'display_data';\n",
       "          await google.colab.output.renderOutput(dataTable, element);\n",
       "          const docLink = document.createElement('div');\n",
       "          docLink.innerHTML = docLinkHtml;\n",
       "          element.appendChild(docLink);\n",
       "        }\n",
       "      </script>\n",
       "    </div>\n",
       "  </div>\n",
       "  "
      ],
      "text/plain": [
       "     nodule_id  malignant  spiculated\n",
       "79          79          0           0\n",
       "197        197          1           0\n",
       "38          38          0           0\n",
       "24          24          0           0\n",
       "122        122          0           0\n",
       "..         ...        ...         ...\n",
       "106        106          0           0\n",
       "14          14          0           0\n",
       "92          92          0           0\n",
       "179        179          1           0\n",
       "102        102          0           0\n",
       "\n",
       "[160 rows x 3 columns]"
      ]
     },
     "execution_count": 15,
     "metadata": {},
     "output_type": "execute_result"
    }
   ],
   "source": [
    "df_train"
   ]
  },
  {
   "cell_type": "code",
   "execution_count": 16,
   "metadata": {
    "colab": {
     "base_uri": "https://localhost:8080/"
    },
    "id": "oPS37OmQcPFq",
    "outputId": "80963aec-5992-42c3-c188-9fec6fe38f7a"
   },
   "outputs": [
    {
     "data": {
      "text/plain": [
       "79        solid\n",
       "197    subsolid\n",
       "38        solid\n",
       "24        solid\n",
       "122         ggo\n",
       "         ...   \n",
       "106       solid\n",
       "14        solid\n",
       "92        solid\n",
       "179       solid\n",
       "102       solid\n",
       "Name: density, Length: 160, dtype: object"
      ]
     },
     "execution_count": 16,
     "metadata": {},
     "output_type": "execute_result"
    }
   ],
   "source": [
    "y_train"
   ]
  },
  {
   "cell_type": "code",
   "execution_count": 17,
   "metadata": {
    "id": "K2rx50pCcjFE"
   },
   "outputs": [],
   "source": [
    "nodule_arrays_train = [np.load(f'/content/entretien/data/nodules/{nod_id}.npy') for nod_id in df_train['nodule_id']]\n",
    "nodules_train = np.array(nodule_arrays_train)"
   ]
  },
  {
   "cell_type": "code",
   "execution_count": 18,
   "metadata": {
    "id": "Np3xvo2jc-8w"
   },
   "outputs": [],
   "source": [
    "nodule_arrays_test = [np.load(f'/content/entretien/data/nodules/{nod_id}.npy') for nod_id in df_test['nodule_id']]\n",
    "nodules_test = np.array(nodule_arrays_test)"
   ]
  },
  {
   "cell_type": "code",
   "execution_count": 19,
   "metadata": {
    "colab": {
     "base_uri": "https://localhost:8080/",
     "height": 35
    },
    "id": "ueJPUkDtjT7u",
    "outputId": "95d7d61d-bfba-47d3-f0ce-8576dee3938b"
   },
   "outputs": [
    {
     "data": {
      "application/vnd.google.colaboratory.intrinsic+json": {
       "type": "string"
      },
      "text/plain": [
       "'modeling'"
      ]
     },
     "execution_count": 19,
     "metadata": {},
     "output_type": "execute_result"
    }
   ],
   "source": [
    "import shutil, os\n",
    "shutil.move('/content/entretien/src/modeling','modeling')"
   ]
  },
  {
   "cell_type": "markdown",
   "metadata": {
    "id": "-SIfBcLWwpTV"
   },
   "source": [
    "# Test du code livré avec le projet"
   ]
  },
  {
   "cell_type": "code",
   "execution_count": 20,
   "metadata": {
    "id": "4gTWjXB8fiYY"
   },
   "outputs": [],
   "source": [
    "from modeling.models import get_model"
   ]
  },
  {
   "cell_type": "code",
   "execution_count": 21,
   "metadata": {
    "id": "83ARtvhLiqKR"
   },
   "outputs": [],
   "source": [
    "from modeling.train import train_preprocessing\n",
    "from modeling.train import test_preprocessing\n",
    "from modeling.train import load_data\n",
    "from modeling.train import get_datasets\n",
    "from modeling.train import train\n",
    "from modeling.train import get_confmat\n",
    "from modeling.train import main"
   ]
  },
  {
   "cell_type": "code",
   "execution_count": 22,
   "metadata": {
    "id": "ThBrVZJTMvRa"
   },
   "outputs": [],
   "source": [
    "import time\n",
    "from os.path import join\n",
    "\n",
    "import numpy as np\n",
    "import pandas as pd\n",
    "import tensorflow as tf\n",
    "from sklearn.metrics import confusion_matrix\n",
    "from tensorflow import keras\n",
    "from tensorflow.keras.utils import to_categorical\n",
    "from tensorflow.python.keras.callbacks import ReduceLROnPlateau\n",
    "\n",
    "from sklearn.preprocessing import OneHotEncoder\n",
    "\n",
    "from modeling.models import get_model"
   ]
  },
  {
   "cell_type": "code",
   "execution_count": 23,
   "metadata": {
    "id": "WPGiJ37SMvXy"
   },
   "outputs": [],
   "source": [
    "from sklearn import preprocessing"
   ]
  },
  {
   "cell_type": "code",
   "execution_count": 24,
   "metadata": {
    "colab": {
     "base_uri": "https://localhost:8080/",
     "height": 1000
    },
    "id": "K3-RTbO0uK_2",
    "outputId": "41a26fb5-513a-496d-81af-08edab27d6d6"
   },
   "outputs": [
    {
     "name": "stdout",
     "output_type": "stream",
     "text": [
      "Model: \"sequential\"\n",
      "_________________________________________________________________\n",
      " Layer (type)                Output Shape              Param #   \n",
      "=================================================================\n",
      " conv3d (Conv3D)             (None, 30, 30, 30, 64)    1792      \n",
      "                                                                 \n",
      " conv3d_1 (Conv3D)           (None, 28, 28, 28, 64)    110656    \n",
      "                                                                 \n",
      " max_pooling3d (MaxPooling3D  (None, 14, 14, 14, 64)   0         \n",
      " )                                                               \n",
      "                                                                 \n",
      " batch_normalization (BatchN  (None, 14, 14, 14, 64)   256       \n",
      " ormalization)                                                   \n",
      "                                                                 \n",
      " conv3d_2 (Conv3D)           (None, 12, 12, 12, 32)    55328     \n",
      "                                                                 \n",
      " conv3d_3 (Conv3D)           (None, 10, 10, 10, 32)    27680     \n",
      "                                                                 \n",
      " max_pooling3d_1 (MaxPooling  (None, 5, 5, 5, 32)      0         \n",
      " 3D)                                                             \n",
      "                                                                 \n",
      " batch_normalization_1 (Batc  (None, 5, 5, 5, 32)      128       \n",
      " hNormalization)                                                 \n",
      "                                                                 \n",
      " global_average_pooling3d (G  (None, 32)               0         \n",
      " lobalAveragePooling3D)                                          \n",
      "                                                                 \n",
      " dense (Dense)               (None, 3)                 99        \n",
      "                                                                 \n",
      "=================================================================\n",
      "Total params: 195,939\n",
      "Trainable params: 195,747\n",
      "Non-trainable params: 192\n",
      "_________________________________________________________________\n",
      "Epoch 1/1000\n",
      "3/3 [==============================] - 21s 2s/step - loss: 1.3048 - precision: 0.2360 - recall: 0.1312 - val_loss: 1.0548 - val_precision: 0.0000e+00 - val_recall: 0.0000e+00 - lr: 0.0010\n",
      "Epoch 2/1000\n",
      "3/3 [==============================] - 2s 721ms/step - loss: 1.0779 - precision: 0.6250 - recall: 0.1250 - val_loss: 0.9937 - val_precision: 0.0000e+00 - val_recall: 0.0000e+00 - lr: 0.0010\n",
      "Epoch 3/1000\n",
      "3/3 [==============================] - 2s 772ms/step - loss: 1.0289 - precision: 0.8182 - recall: 0.1125 - val_loss: 0.9457 - val_precision: 1.0000 - val_recall: 0.0250 - lr: 0.0010\n",
      "Epoch 4/1000\n",
      "3/3 [==============================] - 2s 818ms/step - loss: 0.9968 - precision: 0.8947 - recall: 0.1063 - val_loss: 0.9270 - val_precision: 0.7500 - val_recall: 0.0750 - lr: 0.0010\n",
      "Epoch 5/1000\n",
      "3/3 [==============================] - 2s 721ms/step - loss: 0.9836 - precision: 0.7838 - recall: 0.1813 - val_loss: 0.9038 - val_precision: 0.8571 - val_recall: 0.1500 - lr: 0.0010\n",
      "Epoch 6/1000\n",
      "3/3 [==============================] - 2s 796ms/step - loss: 0.9529 - precision: 0.8537 - recall: 0.2188 - val_loss: 0.9064 - val_precision: 0.8571 - val_recall: 0.1500 - lr: 0.0010\n",
      "Epoch 7/1000\n",
      "3/3 [==============================] - 2s 690ms/step - loss: 0.9309 - precision: 0.8627 - recall: 0.2750 - val_loss: 0.9497 - val_precision: 1.0000 - val_recall: 0.0500 - lr: 0.0010\n",
      "Epoch 8/1000\n",
      "3/3 [==============================] - 2s 690ms/step - loss: 0.9078 - precision: 0.9375 - recall: 0.2812 - val_loss: 1.0346 - val_precision: 0.0000e+00 - val_recall: 0.0000e+00 - lr: 0.0010\n",
      "Epoch 9/1000\n",
      "3/3 [==============================] - 2s 685ms/step - loss: 0.9055 - precision: 0.8444 - recall: 0.2375 - val_loss: 1.0022 - val_precision: 0.0000e+00 - val_recall: 0.0000e+00 - lr: 0.0010\n",
      "Epoch 10/1000\n",
      "3/3 [==============================] - 2s 743ms/step - loss: 0.8835 - precision: 0.8621 - recall: 0.3125 - val_loss: 0.9589 - val_precision: 0.8000 - val_recall: 0.1000 - lr: 0.0010\n",
      "Epoch 11/1000\n",
      "3/3 [==============================] - 2s 731ms/step - loss: 0.8738 - precision: 0.8025 - recall: 0.4062 - val_loss: 0.9509 - val_precision: 0.8333 - val_recall: 0.1250 - lr: 0.0010\n",
      "Epoch 12/1000\n",
      "3/3 [==============================] - 2s 722ms/step - loss: 0.8500 - precision: 0.9000 - recall: 0.3375 - val_loss: 1.0026 - val_precision: 1.0000 - val_recall: 0.0250 - lr: 0.0010\n",
      "Epoch 13/1000\n",
      "3/3 [==============================] - 2s 682ms/step - loss: 0.8492 - precision: 0.9000 - recall: 0.3375 - val_loss: 0.9368 - val_precision: 1.0000 - val_recall: 0.1500 - lr: 0.0010\n"
     ]
    },
    {
     "data": {
      "image/png": "[encoded data removed]",
      "text/plain": [
       "<Figure size 576x576 with 2 Axes>"
      ]
     },
     "metadata": {
      "needs_background": "light"
     },
     "output_type": "display_data"
    },
    {
     "name": "stdout",
     "output_type": "stream",
     "text": [
      "[[ 0  7  0]\n",
      " [ 2 28  0]\n",
      " [ 0  3  0]]\n"
     ]
    }
   ],
   "source": [
    "main()"
   ]
  },
  {
   "cell_type": "markdown",
   "metadata": {
    "id": "ZfqVmmQe9wTR"
   },
   "source": [
    "# Segmenter la coupe centrale des volumes de nodules pour mesurer le diamètre et calculer une approximation du volume. Si possible, identifier le centre."
   ]
  },
  {
   "cell_type": "code",
   "execution_count": 25,
   "metadata": {
    "id": "tH5mq4nfp4Tj"
   },
   "outputs": [],
   "source": [
    "import numpy as np\n",
    "from PIL import Image\n",
    "import matplotlib.pyplot as plt"
   ]
  },
  {
   "cell_type": "code",
   "execution_count": 26,
   "metadata": {
    "colab": {
     "base_uri": "https://localhost:8080/",
     "height": 1000
    },
    "id": "AULICH5gr7GC",
    "outputId": "b74e86e3-9d54-4781-8b7f-38f035071b0c"
   },
   "outputs": [
    {
     "data": {
      "image/png": "[encoded data removed]",
      "text/plain": [
       "<Figure size 432x288 with 1 Axes>"
      ]
     },
     "metadata": {
      "needs_background": "light"
     },
     "output_type": "display_data"
    },
    {
     "data": {
      "image/png": "[encoded data removed]",
      "text/plain": [
       "<Figure size 432x288 with 1 Axes>"
      ]
     },
     "metadata": {
      "needs_background": "light"
     },
     "output_type": "display_data"
    },
    {
     "data": {
      "image/png": "[encoded data removed]",
      "text/plain": [
       "<Figure size 432x288 with 1 Axes>"
      ]
     },
     "metadata": {
      "needs_background": "light"
     },
     "output_type": "display_data"
    },
    {
     "data": {
      "image/png": "[encoded data removed]",
      "text/plain": [
       "<Figure size 432x288 with 1 Axes>"
      ]
     },
     "metadata": {
      "needs_background": "light"
     },
     "output_type": "display_data"
    },
    {
     "data": {
      "image/png": "[encoded data removed]",
      "text/plain": [
       "<Figure size 432x288 with 1 Axes>"
      ]
     },
     "metadata": {
      "needs_background": "light"
     },
     "output_type": "display_data"
    }
   ],
   "source": [
    "data = np.load('/content/entretien/data/nodules/1.npy')\n",
    "for i in range(0,5):\n",
    "  im=Image.fromarray(data[i])\n",
    "  plt.imshow(im)\n",
    "  plt.show()"
   ]
  },
  {
   "cell_type": "markdown",
   "metadata": {
    "id": "o3IjhBG6-5NM"
   },
   "source": [
    "La coupe centrale correspond à la coupe 2"
   ]
  },
  {
   "cell_type": "code",
   "execution_count": 27,
   "metadata": {
    "colab": {
     "base_uri": "https://localhost:8080/",
     "height": 266
    },
    "id": "8XLPMrbY-64m",
    "outputId": "a2a40a71-97cf-46bf-e230-b9faad120254"
   },
   "outputs": [
    {
     "data": {
      "image/png": "[encoded data removed]",
      "text/plain": [
       "<Figure size 432x288 with 1 Axes>"
      ]
     },
     "metadata": {
      "needs_background": "light"
     },
     "output_type": "display_data"
    }
   ],
   "source": [
    "im=Image.fromarray(data[2])\n",
    "plt.imshow(im)\n",
    "plt.show()"
   ]
  },
  {
   "cell_type": "code",
   "execution_count": 28,
   "metadata": {
    "colab": {
     "base_uri": "https://localhost:8080/",
     "height": 266
    },
    "id": "Bevb8USt-69F",
    "outputId": "54becc71-ce5a-43b9-aa40-7512b0917fdf"
   },
   "outputs": [
    {
     "data": {
      "image/png": "[encoded data removed]",
      "text/plain": [
       "<Figure size 432x288 with 1 Axes>"
      ]
     },
     "metadata": {
      "needs_background": "light"
     },
     "output_type": "display_data"
    }
   ],
   "source": [
    "import matplotlib.pyplot as plt\n",
    "import matplotlib.image as img\n",
    "\n",
    "image = img.imread('/content/entretien/data/nodules_preview/1.png')\n",
    "plt.imshow(image)\n",
    "plt.show()"
   ]
  },
  {
   "cell_type": "markdown",
   "metadata": {
    "id": "d-jHFSEWr7T-"
   },
   "source": [
    "## LungRads"
   ]
  },
  {
   "cell_type": "markdown",
   "metadata": {
    "id": "LrKEWHHKt-oF"
   },
   "source": [
    "Ecrire un algorithme permettant d’attribuer un score LungRads en fonction de la texture et\n",
    "du volume.\n",
    "Ce qu'on peut faire grasse aux deux premier points."
   ]
  },
  {
   "cell_type": "markdown",
   "metadata": {
    "id": "O9DjzBTIuUCG"
   },
   "source": [
    "- density (solid,ggo,subsolid)\n",
    "- volume"
   ]
  },
  {
   "cell_type": "code",
   "execution_count": 29,
   "metadata": {
    "colab": {
     "base_uri": "https://localhost:8080/",
     "height": 234
    },
    "id": "EKI1BnFTt9ml",
    "outputId": "695bc387-73ab-427c-abf9-ca491f854b79"
   },
   "outputs": [
    {
     "ename": "NameError",
     "evalue": "ignored",
     "output_type": "error",
     "traceback": [
      "\u001b[0;31m---------------------------------------------------------------------------\u001b[0m",
      "\u001b[0;31mNameError\u001b[0m                                 Traceback (most recent call last)",
      "\u001b[0;32m<ipython-input-29-48cb45c0a1fd>\u001b[0m in \u001b[0;36m<module>\u001b[0;34m()\u001b[0m\n\u001b[0;32m----> 1\u001b[0;31m \u001b[0;32mif\u001b[0m \u001b[0mdensity\u001b[0m \u001b[0;34m==\u001b[0m \u001b[0;34m'solid'\u001b[0m\u001b[0;34m:\u001b[0m\u001b[0;34m\u001b[0m\u001b[0;34m\u001b[0m\u001b[0m\n\u001b[0m\u001b[1;32m      2\u001b[0m   \u001b[0;32mif\u001b[0m \u001b[0mvolume\u001b[0m \u001b[0;34m<\u001b[0m \u001b[0;36m6\u001b[0m\u001b[0;34m:\u001b[0m\u001b[0;34m\u001b[0m\u001b[0;34m\u001b[0m\u001b[0m\n\u001b[1;32m      3\u001b[0m     \u001b[0mLungRads\u001b[0m \u001b[0;34m=\u001b[0m \u001b[0;34m'2'\u001b[0m\u001b[0;34m\u001b[0m\u001b[0;34m\u001b[0m\u001b[0m\n\u001b[1;32m      4\u001b[0m   \u001b[0;32melif\u001b[0m \u001b[0;36m6\u001b[0m \u001b[0;34m<=\u001b[0m \u001b[0mvolume\u001b[0m \u001b[0;34m<\u001b[0m \u001b[0;36m8\u001b[0m\u001b[0;34m:\u001b[0m\u001b[0;34m\u001b[0m\u001b[0;34m\u001b[0m\u001b[0m\n\u001b[1;32m      5\u001b[0m     \u001b[0mLungRads\u001b[0m \u001b[0;34m=\u001b[0m \u001b[0;34m'3'\u001b[0m\u001b[0;34m\u001b[0m\u001b[0;34m\u001b[0m\u001b[0m\n",
      "\u001b[0;31mNameError\u001b[0m: name 'density' is not defined"
     ]
    }
   ],
   "source": [
    "if density == 'solid':\n",
    "  if volume < 6:\n",
    "    LungRads = '2'\n",
    "  elif 6 <= volume < 8:\n",
    "    LungRads = '3'\n",
    "  elif 8 <= volume < 15:\n",
    "    LungRads = '4A'\n",
    "  else:\n",
    "    LungRads = '4B'\n",
    "\n",
    "if density == 'ggo':\n",
    "  if volume < 20:\n",
    "    LungRads = '2'\n",
    "  elif 20 <= volume :\n",
    "    LungRads = '3'\n",
    "\n",
    "if density == 'subsolid':\n",
    "  if volume < 6:\n",
    "    LungRads = '2'\n",
    "  elif 6 <= volume : #With solid component < 6\n",
    "    LungRads = '3'\n",
    "  elif 6 <= volume < 15: #With solid component >= 6 to < 8\n",
    "    LungRads = '4A'\n",
    "  else: # solid component > 8\n",
    "    LungRads = '4B'"
   ]
  }
 ],
 "metadata": {
  "accelerator": "GPU",
  "colab": {
   "name": "Untitled1.ipynb",
   "provenance": []
  },
  "kernelspec": {
   "display_name": "Python 3 (ipykernel)",
   "language": "python",
   "name": "python3"
  },
  "language_info": {
   "codemirror_mode": {
    "name": "ipython",
    "version": 3
   },
   "file_extension": ".py",
   "mimetype": "text/x-python",
   "name": "python",
   "nbconvert_exporter": "python",
   "pygments_lexer": "ipython3",
   "version": "3.9.7"
  }
 },
 "nbformat": 4,
 "nbformat_minor": 1
}
